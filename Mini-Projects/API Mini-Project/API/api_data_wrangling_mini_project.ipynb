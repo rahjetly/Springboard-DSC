{
 "cells": [
  {
   "cell_type": "markdown",
   "metadata": {},
   "source": [
    "This exercise will require you to pull some data from the Qunadl API. Qaundl is currently the most widely used aggregator of financial market data."
   ]
  },
  {
   "cell_type": "markdown",
   "metadata": {},
   "source": [
    "As a first step, you will need to register a free account on the http://www.quandl.com website."
   ]
  },
  {
   "cell_type": "markdown",
   "metadata": {},
   "source": [
    "After you register, you will be provided with a unique API key, that you should store:"
   ]
  },
  {
   "cell_type": "code",
   "execution_count": 3,
   "metadata": {},
   "outputs": [],
   "source": [
    "# Store the API key as a string - according to PEP8, constants are always named in all upper case\n",
    "API_KEY = 'fSL142UZzG6cza4wzwfz'"
   ]
  },
  {
   "cell_type": "markdown",
   "metadata": {},
   "source": [
    "Qaundl has a large number of data sources, but, unfortunately, most of them require a Premium subscription. Still, there are also a good number of free datasets."
   ]
  },
  {
   "cell_type": "markdown",
   "metadata": {},
   "source": [
    "For this mini project, we will focus on equities data from the Frankfurt Stock Exhange (FSE), which is available for free. We'll try and analyze the stock prices of a company called Carl Zeiss Meditec, which manufactures tools for eye examinations, as well as medical lasers for laser eye surgery: https://www.zeiss.com/meditec/int/home.html. The company is listed under the stock ticker AFX_X."
   ]
  },
  {
   "cell_type": "markdown",
   "metadata": {},
   "source": [
    "You can find the detailed Quandl API instructions here: https://docs.quandl.com/docs/time-series"
   ]
  },
  {
   "cell_type": "markdown",
   "metadata": {},
   "source": [
    "While there is a dedicated Python package for connecting to the Quandl API, we would prefer that you use the *requests* package, which can be easily downloaded using *pip* or *conda*. You can find the documentation for the package here: http://docs.python-requests.org/en/master/ "
   ]
  },
  {
   "cell_type": "markdown",
   "metadata": {},
   "source": [
    "Finally, apart from the *requests* package, you are encouraged to not use any third party Python packages, such as *pandas*, and instead focus on what's available in the Python Standard Library (the *collections* module might come in handy: https://pymotw.com/3/collections/ ).\n",
    "Also, since you won't have access to DataFrames, you are encouraged to us Python's native data structures - preferably dictionaries, though some questions can also be answered using lists.\n",
    "You can read more on these data structures here: https://docs.python.org/3/tutorial/datastructures.html"
   ]
  },
  {
   "cell_type": "markdown",
   "metadata": {},
   "source": [
    "Keep in mind that the JSON responses you will be getting from the API map almost one-to-one to Python's dictionaries. Unfortunately, they can be very nested, so make sure you read up on indexing dictionaries in the documentation provided above."
   ]
  },
  {
   "cell_type": "code",
   "execution_count": 4,
   "metadata": {},
   "outputs": [],
   "source": [
    "# First, import the relevant modules\n",
    "import requests\n",
    "import json"
   ]
  },
  {
   "cell_type": "code",
   "execution_count": 5,
   "metadata": {},
   "outputs": [],
   "source": [
    "# Now, call the Quandl API and pull out a small sample of the data (only one day) to get a glimpse\n",
    "# into the JSON structure that will be returned\n",
    "AFX_X_Test = requests.get(\"https://www.quandl.com/api/v3/datasets/FSE/AFX_X.json?start_date=2014-01-01&end_date=2014-01-02&api_key=fSL142UZzG6cza4wzwfz\")"
   ]
  },
  {
   "cell_type": "code",
   "execution_count": 6,
   "metadata": {},
   "outputs": [
    {
     "name": "stdout",
     "output_type": "stream",
     "text": [
      "{'dataset': {'id': 10095370, 'dataset_code': 'AFX_X', 'database_code': 'FSE', 'name': 'Carl Zeiss Meditec (AFX_X)', 'description': 'Stock Prices for Carl Zeiss Meditec (2020-01-21) from the Frankfurt Stock Exchange.<br><br>Trading System: Xetra<br><br>ISIN: DE0005313704', 'refreshed_at': '2020-02-04T22:19:46.062Z', 'newest_available_date': '2020-02-04', 'oldest_available_date': '2000-06-07', 'column_names': ['Date', 'Open', 'High', 'Low', 'Close', 'Change', 'Traded Volume', 'Turnover', 'Last Price of the Day', 'Daily Traded Units', 'Daily Turnover'], 'frequency': 'daily', 'type': 'Time Series', 'premium': False, 'limit': None, 'transform': None, 'column_index': None, 'start_date': '2014-01-01', 'end_date': '2014-01-02', 'data': [['2014-01-02', 24.24, 24.76, 23.77, 24.18, None, 55735.0, 1355658.0, None, None, None]], 'collapse': None, 'order': None, 'database_id': 6129}}\n"
     ]
    }
   ],
   "source": [
    "# Inspect the JSON structure of the object you created, and take note of how nested it is,\n",
    "# as well as the overall structure\n",
    "print(AFX_X_Test.json())"
   ]
  },
  {
   "cell_type": "markdown",
   "metadata": {},
   "source": [
    "These are your tasks for this mini project:\n",
    "\n",
    "1. Collect data from the Franfurt Stock Exchange, for the ticker AFX_X, for the whole year 2017 (keep in mind that the date format is YYYY-MM-DD).\n",
    "2. Convert the returned JSON object into a Python dictionary.\n",
    "3. Calculate what the highest and lowest opening prices were for the stock in this period.\n",
    "4. What was the largest change in any one day (based on High and Low price)?\n",
    "5. What was the largest change between any two days (based on Closing Price)?\n",
    "6. What was the average daily trading volume during this year?\n",
    "7. (Optional) What was the median trading volume during this year. (Note: you may need to implement your own function for calculating the median.)"
   ]
  },
  {
   "cell_type": "markdown",
   "metadata": {
    "collapsed": true
   },
   "source": [
    "### Get data from FSE for 2017 and convert to dictionary"
   ]
  },
  {
   "cell_type": "code",
   "execution_count": 7,
   "metadata": {},
   "outputs": [],
   "source": [
    "AFX_X_2017 = requests.get('https://www.quandl.com/api/v3/datasets/FSE/AFX_X.json?start_date=2017-01-01&end_date=2017-12-31&api_key=fSL142UZzG6cza4wzwfz')"
   ]
  },
  {
   "cell_type": "code",
   "execution_count": 8,
   "metadata": {},
   "outputs": [],
   "source": [
    "#Converting to dict#\n",
    "a = AFX_X_2017.json()"
   ]
  },
  {
   "cell_type": "markdown",
   "metadata": {},
   "source": [
    "### Find the highest and lowest opening prices in this period"
   ]
  },
  {
   "cell_type": "code",
   "execution_count": 15,
   "metadata": {},
   "outputs": [],
   "source": [
    "#The 'x' ends up being a list of the daily company updates according to FSE. \n",
    "#'1' is the index value of the opening price. This creates a list of the opening prices. \n",
    "daily_opening = [x[1] for x in a['dataset']['data'] if x[1] != None]"
   ]
  },
  {
   "cell_type": "code",
   "execution_count": 16,
   "metadata": {},
   "outputs": [
    {
     "name": "stdout",
     "output_type": "stream",
     "text": [
      "[51.76, 51.65, 51.45, 51.05, 51.16, 51.88, 52.73, 52.37, 52.7, 53.11]\n"
     ]
    }
   ],
   "source": [
    "print(daily_opening[:10])"
   ]
  },
  {
   "cell_type": "code",
   "execution_count": 17,
   "metadata": {},
   "outputs": [
    {
     "name": "stdout",
     "output_type": "stream",
     "text": [
      "53.11\n"
     ]
    }
   ],
   "source": [
    "#Highest Price\n",
    "high_price = max(daily_opening)\n",
    "print(high_price)"
   ]
  },
  {
   "cell_type": "code",
   "execution_count": 19,
   "metadata": {},
   "outputs": [
    {
     "name": "stdout",
     "output_type": "stream",
     "text": [
      "34.0\n"
     ]
    }
   ],
   "source": [
    "#Lowest Price\n",
    "low_price = min(daily_opening)\n",
    "print(low_price)"
   ]
  },
  {
   "cell_type": "markdown",
   "metadata": {},
   "source": [
    "### Find the greatest change on a given day"
   ]
  },
  {
   "cell_type": "code",
   "execution_count": 26,
   "metadata": {},
   "outputs": [],
   "source": [
    "#Create a list of the price change through the day\n",
    "daily_delta = [(x[2] - x[3]) for x in a['dataset']['data'] if x[2:4] != None]"
   ]
  },
  {
   "cell_type": "code",
   "execution_count": 27,
   "metadata": {},
   "outputs": [
    {
     "name": "stdout",
     "output_type": "stream",
     "text": [
      "[0.4899999999999949, 0.39000000000000057, 1.1300000000000026, 0.5799999999999983, 0.6200000000000045, 0.8399999999999963, 1.6599999999999966, 1.1400000000000006, 1.0600000000000023, 1.3900000000000006]\n"
     ]
    }
   ],
   "source": [
    "print(daily_opening_delta[:10])"
   ]
  },
  {
   "cell_type": "code",
   "execution_count": 28,
   "metadata": {},
   "outputs": [
    {
     "name": "stdout",
     "output_type": "stream",
     "text": [
      "2.8100000000000023\n"
     ]
    }
   ],
   "source": [
    "daily_greatest_change = max(daily_delta)\n",
    "print(daily_greatest_change)"
   ]
  },
  {
   "cell_type": "markdown",
   "metadata": {},
   "source": [
    "### Largest change btwn 2 days based on Closing Price"
   ]
  },
  {
   "cell_type": "code",
   "execution_count": 41,
   "metadata": {},
   "outputs": [
    {
     "name": "stdout",
     "output_type": "stream",
     "text": [
      "[51.76, 51.6, 51.82, 51.32, 51.4, 51.27, 51.66, 52.62, 52.01, 52.67, 53.09, 52.43, 52.14, 52.12, 51.47, 50.89, 51.25, 51.14, 49.86, 49.7, 48.75, 49.25, 49.2, 49.11, 49.2, 48.8, 48.39, 47.04, 46.84, 47.03, 47.05, 48.0, 48.34, 48.34, 47.21, 47.47, 46.26, 45.99, 45.97, 45.27, 46.04, 45.76, 46.41, 45.41, 45.0, 44.85, 45.0, 44.87, 45.0, 45.77, 45.96, 45.55, 45.4, 45.43, 45.29, 45.84, 45.74, 46.0, 46.05, 46.11, 44.98, 44.17, 43.56, 42.04, 42.37, 42.07, 42.06, 41.46, 41.99, 42.44, 42.27, 42.42, 42.52, 42.45, 42.73, 42.85, 42.67, 42.77, 42.55, 42.62, 42.6, 42.41, 41.9, 41.94, 41.85, 41.91, 42.14, 42.69, 42.71, 42.71, 42.26, 42.41, 42.5, 42.05, 42.28, 42.3, 41.94, 41.68, 41.81, 44.37, 44.96, 45.07, 44.97, 45.56, 45.45, 45.3, 44.97, 45.25, 45.16, 44.82, 44.61, 45.44, 45.66, 45.57, 45.0, 45.6, 45.53, 44.95, 44.95, 44.2, 44.7, 44.53, 44.62, 45.19, 44.8, 45.75, 45.44, 45.2, 45.68, 46.83, 47.21, 46.99, 47.29, 46.99, 47.37, 46.64, 46.63, 45.67, 46.33, 46.32, 46.31, 47.44, 46.27, 47.43, 47.43, 46.99, 46.52, 45.86, 46.02, 45.32, 45.3, 44.78, 44.53, 43.9, 43.84, 44.12, 43.98, 44.19, 45.31, 45.14, 44.99, 45.0, 43.28, 43.3, 42.24, 42.75, 42.5, 41.9, 42.15, 41.72, 41.72, 42.16, 41.5, 41.89, 41.81, 41.32, 41.93, 42.61, 42.0, 42.2, 42.2, 42.2, 42.2, 41.75, 41.68, 41.42, 41.05, 41.1, 40.81, 39.64, 39.98, 39.75, 40.01, 39.22, 38.85, 38.94, 38.96, 38.94, 40.98, 41.97, 41.34, 41.46, 41.25, 41.3, 41.3, 41.4, 41.4, 41.68, 41.42, 41.4, 41.18, 41.17, 41.2, 40.84, 40.39, 39.74, 39.79, 39.7, 39.45, 38.98, 39.02, 38.71, 38.72, 38.37, 38.53, 37.06, 36.25, 36.05, 35.89, 35.64, 36.1, 36.07, 35.94, 34.56, 35.15, 35.3, 34.89, 34.83, 34.22, 34.06, 34.17, 34.5, 34.9, 34.99, 35.07, 34.85, 34.9, 35.42, 34.91, 34.67, 35.04, 35.06, 35.19, 35.48, 35.8]\n"
     ]
    }
   ],
   "source": [
    "#create a list of closing prices\n",
    "closing_prices = [x[4] for x in a['dataset']['data'] if x[4] != None]\n",
    "#testing to make sure the list was created properly\n",
    "print(closing_prices)"
   ]
  },
  {
   "cell_type": "code",
   "execution_count": 42,
   "metadata": {},
   "outputs": [
    {
     "name": "stdout",
     "output_type": "stream",
     "text": [
      "[15.96, -0.1599999999999966, 0.21999999999999886, -0.5, 0.0799999999999983, -0.12999999999999545, 0.38999999999999346, 0.9600000000000009, -0.6099999999999994, 0.6600000000000037, 0.4200000000000017, -0.6600000000000037, -0.28999999999999915, -0.020000000000003126, -0.6499999999999986, -0.5799999999999983, 0.35999999999999943, -0.10999999999999943, -1.2800000000000011, -0.1599999999999966, -0.9500000000000028, 0.5, -0.04999999999999716, -0.09000000000000341, 0.09000000000000341, -0.4000000000000057, -0.4099999999999966, -1.3500000000000014, -0.19999999999999574, 0.18999999999999773, 0.01999999999999602, 0.9500000000000028, 0.3400000000000034, 0.0, -1.1300000000000026, 0.259999999999998, -1.2100000000000009, -0.269999999999996, -0.020000000000003126, -0.6999999999999957, 0.769999999999996, -0.28000000000000114, 0.6499999999999986, -1.0, -0.4099999999999966, -0.14999999999999858, 0.14999999999999858, -0.13000000000000256, 0.13000000000000256, 0.7700000000000031, 0.18999999999999773, -0.4100000000000037, -0.14999999999999858, 0.030000000000001137, -0.14000000000000057, 0.5500000000000043, -0.10000000000000142, 0.259999999999998, 0.04999999999999716, 0.060000000000002274, -1.1300000000000026, -0.8099999999999952, -0.6099999999999994, -1.5200000000000031, 0.3299999999999983, -0.29999999999999716, -0.00999999999999801, -0.6000000000000014, 0.5300000000000011, 0.44999999999999574, -0.1699999999999946, 0.14999999999999858, 0.10000000000000142, -0.07000000000000028, 0.27999999999999403, 0.12000000000000455, -0.17999999999999972, 0.10000000000000142, -0.22000000000000597, 0.07000000000000028, -0.01999999999999602, -0.19000000000000483, -0.509999999999998, 0.03999999999999915, -0.0899999999999963, 0.05999999999999517, 0.23000000000000398, 0.5499999999999972, 0.020000000000003126, 0.0, -0.45000000000000284, 0.14999999999999858, 0.09000000000000341, -0.45000000000000284, 0.23000000000000398, 0.01999999999999602, -0.35999999999999943, -0.259999999999998, 0.13000000000000256, 2.559999999999995, 0.5900000000000034, 0.10999999999999943, -0.10000000000000142, 0.5900000000000034, -0.10999999999999943, -0.15000000000000568, -0.3299999999999983, 0.28000000000000114, -0.09000000000000341, -0.3399999999999963, -0.21000000000000085, 0.8299999999999983, 0.21999999999999886, -0.0899999999999963, -0.5700000000000003, 0.6000000000000014, -0.07000000000000028, -0.5799999999999983, 0.0, -0.75, 0.5, -0.1700000000000017, 0.0899999999999963, 0.5700000000000003, -0.39000000000000057, 0.9500000000000028, -0.3100000000000023, -0.23999999999999488, 0.4799999999999969, 1.1499999999999986, 0.38000000000000256, -0.21999999999999886, 0.29999999999999716, -0.29999999999999716, 0.37999999999999545, -0.7299999999999969, -0.00999999999999801, -0.9600000000000009, 0.6599999999999966, -0.00999999999999801, -0.00999999999999801, 1.1299999999999955, -1.1699999999999946, 1.1599999999999966, 0.0, -0.4399999999999977, -0.46999999999999886, -0.6600000000000037, 0.1600000000000037, -0.7000000000000028, -0.020000000000003126, -0.519999999999996, -0.25, -0.6300000000000026, -0.05999999999999517, 0.27999999999999403, -0.14000000000000057, 0.21000000000000085, 1.1200000000000045, -0.1700000000000017, -0.14999999999999858, 0.00999999999999801, -1.7199999999999989, 0.01999999999999602, -1.0599999999999952, 0.509999999999998, -0.25, -0.6000000000000014, 0.25, -0.4299999999999997, 0.0, 0.4399999999999977, -0.6599999999999966, 0.39000000000000057, -0.0799999999999983, -0.490000000000002, 0.6099999999999994, 0.6799999999999997, -0.6099999999999994, 0.20000000000000284, 0.0, 0.0, 0.0, -0.45000000000000284, -0.07000000000000028, -0.259999999999998, -0.37000000000000455, 0.05000000000000426, -0.28999999999999915, -1.1700000000000017, 0.3399999999999963, -0.22999999999999687, 0.259999999999998, -0.7899999999999991, -0.36999999999999744, 0.0899999999999963, 0.020000000000003126, -0.020000000000003126, 2.039999999999999, 0.990000000000002, -0.6299999999999955, 0.11999999999999744, -0.21000000000000085, 0.04999999999999716, 0.0, 0.10000000000000142, 0.0, 0.28000000000000114, -0.259999999999998, -0.020000000000003126, -0.21999999999999886, -0.00999999999999801, 0.030000000000001137, -0.35999999999999943, -0.45000000000000284, -0.6499999999999986, 0.04999999999999716, -0.0899999999999963, -0.25, -0.47000000000000597, 0.04000000000000625, -0.3100000000000023, 0.00999999999999801, -0.3500000000000014, 0.1600000000000037, -1.4699999999999989, -0.8100000000000023, -0.20000000000000284, -0.1599999999999966, -0.25, 0.46000000000000085, -0.030000000000001137, -0.13000000000000256, -1.3799999999999955, 0.5899999999999963, 0.14999999999999858, -0.4099999999999966, -0.060000000000002274, -0.6099999999999994, -0.1599999999999966, 0.10999999999999943, 0.3299999999999983, 0.3999999999999986, 0.09000000000000341, 0.0799999999999983, -0.21999999999999886, 0.04999999999999716, 0.5200000000000031, -0.5100000000000051, -0.23999999999999488, 0.36999999999999744, 0.020000000000003126, 0.12999999999999545, 0.28999999999999915, 0.3200000000000003]\n"
     ]
    }
   ],
   "source": [
    "#create a new list that calculates the change between two days\n",
    "closing_change = [(item - closing_prices[index - 1]) for index, item in enumerate(closing_prices)]\n",
    "#test to make sure list was created\n",
    "print(closing_change)"
   ]
  },
  {
   "cell_type": "code",
   "execution_count": null,
   "metadata": {},
   "outputs": [],
   "source": []
  }
 ],
 "metadata": {
  "kernelspec": {
   "display_name": "Python 3",
   "language": "python",
   "name": "python3"
  },
  "language_info": {
   "codemirror_mode": {
    "name": "ipython",
    "version": 3
   },
   "file_extension": ".py",
   "mimetype": "text/x-python",
   "name": "python",
   "nbconvert_exporter": "python",
   "pygments_lexer": "ipython3",
   "version": "3.7.3"
  }
 },
 "nbformat": 4,
 "nbformat_minor": 2
}
